{
  "nbformat": 4,
  "nbformat_minor": 0,
  "metadata": {
    "colab": {
      "provenance": []
    },
    "kernelspec": {
      "name": "python3",
      "display_name": "Python 3"
    },
    "language_info": {
      "name": "python"
    }
  },
  "cells": [
    {
      "cell_type": "markdown",
      "source": [
        "# :Word2Vec Implementation - CBow ( Gensim )"
      ],
      "metadata": {
        "id": "nELSGh4pohFp"
      }
    },
    {
      "cell_type": "code",
      "source": [
        "file_path = '/content/BERT-SST2-Dataset-Paper.txt'"
      ],
      "metadata": {
        "id": "cxWoGO0ChREo"
      },
      "execution_count": 1,
      "outputs": []
    },
    {
      "cell_type": "markdown",
      "source": [
        "## Reading the file"
      ],
      "metadata": {
        "id": "jLDGPTL0oqw-"
      }
    },
    {
      "cell_type": "code",
      "source": [
        "text_list = []\n",
        "\n",
        "with open(file_path, 'r', encoding='utf-8') as file:\n",
        "    for line in file:\n",
        "        text_list.append(line.strip())"
      ],
      "metadata": {
        "id": "1TbTd7dfh0kj"
      },
      "execution_count": 2,
      "outputs": []
    },
    {
      "cell_type": "code",
      "source": [
        "text_list[:5]"
      ],
      "metadata": {
        "colab": {
          "base_uri": "https://localhost:8080/"
        },
        "id": "x6-aI0B7h8hN",
        "outputId": "5b818944-e6b5-4839-c170-92ecbdeedfec"
      },
      "execution_count": 4,
      "outputs": [
        {
          "output_type": "execute_result",
          "data": {
            "text/plain": [
              "['Recursive Deep Models for Semantic Compositionality',\n",
              " 'Over a Sentiment Treebank',\n",
              " 'Recursive Deep Models for Semantic Compositionality',\n",
              " 'Over a Sentiment Treebank',\n",
              " 'Richard Socher, Alex Perelygin, Jean Y. Wu, Jason Chuang,']"
            ]
          },
          "metadata": {},
          "execution_count": 4
        }
      ]
    },
    {
      "cell_type": "markdown",
      "source": [
        "## Basic Text Preprocessing using re"
      ],
      "metadata": {
        "id": "NgAinNtSoubm"
      }
    },
    {
      "cell_type": "code",
      "source": [
        "import re\n",
        "from nltk.corpus import stopwords\n",
        "from nltk.tokenize import word_tokenize\n",
        "from nltk.stem import WordNetLemmatizer\n",
        "import nltk"
      ],
      "metadata": {
        "id": "kL7a2RQjh-Ad"
      },
      "execution_count": 11,
      "outputs": []
    },
    {
      "cell_type": "code",
      "source": [
        "nltk.download('punkt')\n",
        "nltk.download('stopwords')\n",
        "nltk.download('wordnet')\n",
        "nltk.download('punkt_tab')"
      ],
      "metadata": {
        "colab": {
          "base_uri": "https://localhost:8080/"
        },
        "id": "jdPXMKMkiU3w",
        "outputId": "e42b3390-7573-4a5b-f693-ae99b2e8caaa"
      },
      "execution_count": 14,
      "outputs": [
        {
          "output_type": "stream",
          "name": "stderr",
          "text": [
            "[nltk_data] Downloading package punkt to /root/nltk_data...\n",
            "[nltk_data]   Package punkt is already up-to-date!\n",
            "[nltk_data] Downloading package stopwords to /root/nltk_data...\n",
            "[nltk_data]   Package stopwords is already up-to-date!\n",
            "[nltk_data] Downloading package wordnet to /root/nltk_data...\n",
            "[nltk_data]   Package wordnet is already up-to-date!\n",
            "[nltk_data] Downloading package punkt_tab to /root/nltk_data...\n",
            "[nltk_data]   Unzipping tokenizers/punkt_tab.zip.\n"
          ]
        },
        {
          "output_type": "execute_result",
          "data": {
            "text/plain": [
              "True"
            ]
          },
          "metadata": {},
          "execution_count": 14
        }
      ]
    },
    {
      "cell_type": "code",
      "source": [
        "lemmatizer = WordNetLemmatizer()\n",
        "stop_words = set(stopwords.words('english'))"
      ],
      "metadata": {
        "id": "e6Ao1dmLiZ06"
      },
      "execution_count": 8,
      "outputs": []
    },
    {
      "cell_type": "code",
      "source": [
        "def preprocess_text(text_list):\n",
        "    processed_text = []\n",
        "    for line in text_list:\n",
        "        # Lowercase\n",
        "        line = line.lower()\n",
        "\n",
        "        # Remove special characters and numbers\n",
        "        line = re.sub(r'[^\\w\\s]', '', line)  # Remove punctuation\n",
        "        line = re.sub(r'\\d+', '', line)     # Remove digits\n",
        "\n",
        "        #  Tokenization\n",
        "        tokens = word_tokenize(line)\n",
        "\n",
        "        # Remove stopwords\n",
        "        tokens = [word for word in tokens if word not in stop_words]\n",
        "\n",
        "        # Lemmatization\n",
        "        tokens = [lemmatizer.lemmatize(word) for word in tokens]\n",
        "\n",
        "        # Append cleaned line to processed_text\n",
        "        if tokens:\n",
        "            processed_text.append(tokens)\n",
        "\n",
        "    return processed_text"
      ],
      "metadata": {
        "id": "aIIKFnUqidTz"
      },
      "execution_count": 9,
      "outputs": []
    },
    {
      "cell_type": "code",
      "source": [
        "cleaned_text = preprocess_text(text_list)"
      ],
      "metadata": {
        "id": "jsLlPa1Gi2pV"
      },
      "execution_count": 15,
      "outputs": []
    },
    {
      "cell_type": "code",
      "source": [
        "cleaned_text[:5]"
      ],
      "metadata": {
        "colab": {
          "base_uri": "https://localhost:8080/"
        },
        "id": "EgPdDvOPi5J2",
        "outputId": "fbb2de7f-60a1-4e57-ff88-dde56a16a2fb"
      },
      "execution_count": 24,
      "outputs": [
        {
          "output_type": "execute_result",
          "data": {
            "text/plain": [
              "[['recursive', 'deep', 'model', 'semantic', 'compositionality'],\n",
              " ['sentiment', 'treebank'],\n",
              " ['recursive', 'deep', 'model', 'semantic', 'compositionality'],\n",
              " ['sentiment', 'treebank'],\n",
              " ['richard', 'socher', 'alex', 'perelygin', 'jean', 'wu', 'jason', 'chuang']]"
            ]
          },
          "metadata": {},
          "execution_count": 24
        }
      ]
    },
    {
      "cell_type": "code",
      "source": [
        "cleaned_text[-5:]"
      ],
      "metadata": {
        "colab": {
          "base_uri": "https://localhost:8080/"
        },
        "id": "fsS9_FRVkXPB",
        "outputId": "48b5768f-d61a-4b22-9ec6-95f31a6defab"
      },
      "execution_count": 27,
      "outputs": [
        {
          "output_type": "execute_result",
          "data": {
            "text/plain": [
              "[['andhar', 'estimating', 'linear', 'model', 'composi'],\n",
              " ['tional', 'distributional', 'semantics', 'coling'],\n",
              " ['l', 'zettlemoyer', 'collins', 'learning'],\n",
              " ['map', 'sentence', 'logical', 'form', 'structured', 'classiﬁca'],\n",
              " ['tion', 'probabilistic', 'categorial', 'grammar', 'uai']]"
            ]
          },
          "metadata": {},
          "execution_count": 27
        }
      ]
    },
    {
      "cell_type": "code",
      "source": [
        "for i, line in enumerate(cleaned_text[:5]):\n",
        "    print(f\"Line {i + 1}: {line}\")"
      ],
      "metadata": {
        "colab": {
          "base_uri": "https://localhost:8080/"
        },
        "id": "ZpXTXpLgjdFB",
        "outputId": "127ceceb-e1fe-4bcd-c826-9a6ecdfa820f"
      },
      "execution_count": 25,
      "outputs": [
        {
          "output_type": "stream",
          "name": "stdout",
          "text": [
            "Line 1: ['recursive', 'deep', 'model', 'semantic', 'compositionality']\n",
            "Line 2: ['sentiment', 'treebank']\n",
            "Line 3: ['recursive', 'deep', 'model', 'semantic', 'compositionality']\n",
            "Line 4: ['sentiment', 'treebank']\n",
            "Line 5: ['richard', 'socher', 'alex', 'perelygin', 'jean', 'wu', 'jason', 'chuang']\n"
          ]
        }
      ]
    },
    {
      "cell_type": "markdown",
      "source": [
        "## Model Implementation"
      ],
      "metadata": {
        "id": "hcXveHIqo6sf"
      }
    },
    {
      "cell_type": "code",
      "source": [
        "from gensim.models import Word2Vec\n",
        "import numpy as np"
      ],
      "metadata": {
        "id": "EAR6qbkGkAIj"
      },
      "execution_count": 26,
      "outputs": []
    },
    {
      "cell_type": "code",
      "source": [
        "model=Word2Vec(\n",
        "    sentences=cleaned_text,  # List of tokenized sentences\n",
        "    vector_size=50,         # Dimensionality of word vectors\n",
        "    window=5,                # Context window size\n",
        "    min_count=1,             # Ignores words with total frequency lower than this\n",
        "    workers=4,               # Number of threads to use\n",
        "    sg=0,                    # Training algorithm: 1 for Skip-gram, 0 for CBOW\n",
        "    epochs=50     # Number of iterations (epochs) over the corpus , Def-5\n",
        ")"
      ],
      "metadata": {
        "id": "ed_iwnjokQ8V"
      },
      "execution_count": 37,
      "outputs": []
    },
    {
      "cell_type": "code",
      "source": [
        "model"
      ],
      "metadata": {
        "colab": {
          "base_uri": "https://localhost:8080/"
        },
        "id": "iDXYoMrYkumd",
        "outputId": "a5f91c4e-1fee-419a-d44a-207c7c082d9b"
      },
      "execution_count": 38,
      "outputs": [
        {
          "output_type": "execute_result",
          "data": {
            "text/plain": [
              "<gensim.models.word2vec.Word2Vec at 0x795c6a7b65f0>"
            ]
          },
          "metadata": {},
          "execution_count": 38
        }
      ]
    },
    {
      "cell_type": "code",
      "source": [
        "model.save(\"word2vec_model.model\")\n",
        "print(\"Word2Vec model trained and saved.\")"
      ],
      "metadata": {
        "colab": {
          "base_uri": "https://localhost:8080/"
        },
        "id": "CDsOzvTvleFN",
        "outputId": "4384db36-9705-4a62-c0d3-f606e9e70526"
      },
      "execution_count": 39,
      "outputs": [
        {
          "output_type": "stream",
          "name": "stdout",
          "text": [
            "Word2Vec model trained and saved.\n"
          ]
        }
      ]
    },
    {
      "cell_type": "code",
      "source": [
        "try:\n",
        "    vector = model.wv['recursive']\n",
        "    print(\"\\nVector for 'recursive':\", vector)\n",
        "except KeyError:\n",
        "    print(\"\\nWord 'recursive' not in vocabulary.\")"
      ],
      "metadata": {
        "colab": {
          "base_uri": "https://localhost:8080/"
        },
        "id": "5heVgxJ4lx6d",
        "outputId": "2f6a68b6-40f8-4a8b-c1ce-71151d114e8b"
      },
      "execution_count": 40,
      "outputs": [
        {
          "output_type": "stream",
          "name": "stdout",
          "text": [
            "\n",
            "Vector for 'recursive': [ 0.06935543  0.13170142  0.10687276  0.15769222  0.13224931 -0.2856876\n",
            "  0.3528954   0.6148442  -0.55559856 -0.2673498  -0.16941503 -0.4929258\n",
            "  0.20731372  0.10917935 -0.4000739   0.11671156  0.31624016  0.04454136\n",
            " -0.339645   -0.5185618   0.07258268  0.3300952   0.4397388  -0.20943202\n",
            " -0.00238743  0.07161313 -0.36169243 -0.13884637 -0.53377783  0.24488422\n",
            "  0.18649049 -0.10522889 -0.27879453  0.05359181 -0.18614137  0.32020405\n",
            " -0.02709083 -0.23158936  0.27120125 -0.31521833  0.3308731  -0.25354984\n",
            " -0.3364355   0.16820334  1.0420135  -0.02295529 -0.4176643  -0.23842299\n",
            "  0.3924205  -0.02856647]\n"
          ]
        }
      ]
    },
    {
      "cell_type": "code",
      "source": [
        "try:\n",
        "    similar_words = model.wv.most_similar('recursive', topn=5)\n",
        "    print(\"\\nMost similar words to 'recursive':\", similar_words)\n",
        "except KeyError:\n",
        "    print(\"\\nWord 'recursive' not in vocabulary.\")"
      ],
      "metadata": {
        "colab": {
          "base_uri": "https://localhost:8080/"
        },
        "id": "fmvQbMz9mCx_",
        "outputId": "634bba63-30af-47eb-9384-a852da30a7b9"
      },
      "execution_count": 42,
      "outputs": [
        {
          "output_type": "stream",
          "name": "stdout",
          "text": [
            "\n",
            "Most similar words to 'recursive': [('network', 0.9953770637512207), ('neural', 0.9944674968719482), ('tensor', 0.9888547658920288), ('net', 0.9852427244186401), ('layer', 0.970910370349884)]\n"
          ]
        }
      ]
    },
    {
      "cell_type": "code",
      "source": [
        "model.wv['neural'].shape"
      ],
      "metadata": {
        "colab": {
          "base_uri": "https://localhost:8080/"
        },
        "id": "HVRHxE_ZmWSH",
        "outputId": "625cbef8-ef25-4892-9862-7682b8c5d771"
      },
      "execution_count": 46,
      "outputs": [
        {
          "output_type": "execute_result",
          "data": {
            "text/plain": [
              "(50,)"
            ]
          },
          "metadata": {},
          "execution_count": 46
        }
      ]
    },
    {
      "cell_type": "markdown",
      "source": [
        "## Visual Representation"
      ],
      "metadata": {
        "id": "KCwNGRuSo_lP"
      }
    },
    {
      "cell_type": "code",
      "source": [
        "from sklearn.decomposition import PCA\n",
        "import plotly.express as px\n",
        "import pandas as pd"
      ],
      "metadata": {
        "id": "trOASWxjmkzu"
      },
      "execution_count": 54,
      "outputs": []
    },
    {
      "cell_type": "code",
      "source": [
        "word = \"tensor\"\n",
        "if word in model.wv:\n",
        "    # Find 10 most similar words\n",
        "    similar_words = model.wv.most_similar(word, topn=10)\n",
        "    words = [word] + [w[0] for w in similar_words]  # Include the main word\n",
        "\n",
        "    # Retrieve vectors for the words\n",
        "    vectors = [model.wv[w] for w in words]\n",
        "\n",
        "    # Apply PCA to reduce dimensions to 3D\n",
        "    pca = PCA(n_components=3)\n",
        "    reduced_vectors = pca.fit_transform(vectors)\n",
        "\n",
        "    # Create a DataFrame for visualization using pandas\n",
        "    df = pd.DataFrame({\n",
        "        \"Word\": words,\n",
        "        \"x\": reduced_vectors[:, 0],\n",
        "        \"y\": reduced_vectors[:, 1],\n",
        "        \"z\": reduced_vectors[:, 2],\n",
        "    })\n",
        "\n",
        "    # Plot using Plotly\n",
        "    fig = px.scatter_3d(\n",
        "        df, x=\"x\", y=\"y\", z=\"z\", text=\"Word\", title=\"Word Embeddings in 3D Space\"\n",
        "    )\n",
        "    fig.update_traces(marker=dict(size=8, color='blue'), textposition=\"top center\")\n",
        "    fig.show()\n",
        "else:\n",
        "    print(f\"The word '{word}' is not in the vocabulary.\")\n"
      ],
      "metadata": {
        "colab": {
          "base_uri": "https://localhost:8080/",
          "height": 542
        },
        "id": "URBN9HElnAX_",
        "outputId": "7a436c3e-077a-4b0d-dda2-476674abd51a"
      },
      "execution_count": 56,
      "outputs": [
        {
          "output_type": "display_data",
          "data": {
            "text/html": [
              "<html>\n",
              "<head><meta charset=\"utf-8\" /></head>\n",
              "<body>\n",
              "    <div>            <script src=\"https://cdnjs.cloudflare.com/ajax/libs/mathjax/2.7.5/MathJax.js?config=TeX-AMS-MML_SVG\"></script><script type=\"text/javascript\">if (window.MathJax && window.MathJax.Hub && window.MathJax.Hub.Config) {window.MathJax.Hub.Config({SVG: {font: \"STIX-Web\"}});}</script>                <script type=\"text/javascript\">window.PlotlyConfig = {MathJaxConfig: 'local'};</script>\n",
              "        <script charset=\"utf-8\" src=\"https://cdn.plot.ly/plotly-2.35.2.min.js\"></script>                <div id=\"995d30ce-d043-432c-9b93-0724b4236e62\" class=\"plotly-graph-div\" style=\"height:525px; width:100%;\"></div>            <script type=\"text/javascript\">                                    window.PLOTLYENV=window.PLOTLYENV || {};                                    if (document.getElementById(\"995d30ce-d043-432c-9b93-0724b4236e62\")) {                    Plotly.newPlot(                        \"995d30ce-d043-432c-9b93-0724b4236e62\",                        [{\"hovertemplate\":\"x=%{x}\\u003cbr\\u003ey=%{y}\\u003cbr\\u003ez=%{z}\\u003cbr\\u003eWord=%{text}\\u003cextra\\u003e\\u003c\\u002fextra\\u003e\",\"legendgroup\":\"\",\"marker\":{\"color\":\"blue\",\"symbol\":\"circle\",\"size\":8},\"mode\":\"markers+text\",\"name\":\"\",\"scene\":\"scene\",\"showlegend\":false,\"text\":[\"tensor\",\"network\",\"layer\",\"recursive\",\"neural\",\"net\",\"mod\",\"figure\",\"powerful\",\"icml\",\"rnn\"],\"x\":[0.8669128254406065,0.7784014743477056,-0.2461817383560944,0.35663323643171885,0.764831029995189,-1.0124016535193392,-0.7488760725791116,0.5900973648825104,0.14614641690236232,-1.3722546599597805,-0.12330822358576737],\"y\":[0.034431033452156014,-0.18556658716242083,0.11547491854431678,-0.29185946322920997,-0.30908560612188773,-0.12448481382620791,0.06804424974597614,0.4069860177113839,0.28536222952468504,-0.10141153171228298,0.10210955307349137],\"z\":[0.03641218108672435,-0.005207395657058377,0.0702601301543565,-0.014220605822224624,0.021214792495371598,0.03894836017112124,0.027424643790627427,0.08624365212454241,-0.04403917726275547,0.026117619384910227,-0.24315420046561503],\"type\":\"scatter3d\",\"textposition\":\"top center\"}],                        {\"template\":{\"data\":{\"histogram2dcontour\":[{\"type\":\"histogram2dcontour\",\"colorbar\":{\"outlinewidth\":0,\"ticks\":\"\"},\"colorscale\":[[0.0,\"#0d0887\"],[0.1111111111111111,\"#46039f\"],[0.2222222222222222,\"#7201a8\"],[0.3333333333333333,\"#9c179e\"],[0.4444444444444444,\"#bd3786\"],[0.5555555555555556,\"#d8576b\"],[0.6666666666666666,\"#ed7953\"],[0.7777777777777778,\"#fb9f3a\"],[0.8888888888888888,\"#fdca26\"],[1.0,\"#f0f921\"]]}],\"choropleth\":[{\"type\":\"choropleth\",\"colorbar\":{\"outlinewidth\":0,\"ticks\":\"\"}}],\"histogram2d\":[{\"type\":\"histogram2d\",\"colorbar\":{\"outlinewidth\":0,\"ticks\":\"\"},\"colorscale\":[[0.0,\"#0d0887\"],[0.1111111111111111,\"#46039f\"],[0.2222222222222222,\"#7201a8\"],[0.3333333333333333,\"#9c179e\"],[0.4444444444444444,\"#bd3786\"],[0.5555555555555556,\"#d8576b\"],[0.6666666666666666,\"#ed7953\"],[0.7777777777777778,\"#fb9f3a\"],[0.8888888888888888,\"#fdca26\"],[1.0,\"#f0f921\"]]}],\"heatmap\":[{\"type\":\"heatmap\",\"colorbar\":{\"outlinewidth\":0,\"ticks\":\"\"},\"colorscale\":[[0.0,\"#0d0887\"],[0.1111111111111111,\"#46039f\"],[0.2222222222222222,\"#7201a8\"],[0.3333333333333333,\"#9c179e\"],[0.4444444444444444,\"#bd3786\"],[0.5555555555555556,\"#d8576b\"],[0.6666666666666666,\"#ed7953\"],[0.7777777777777778,\"#fb9f3a\"],[0.8888888888888888,\"#fdca26\"],[1.0,\"#f0f921\"]]}],\"heatmapgl\":[{\"type\":\"heatmapgl\",\"colorbar\":{\"outlinewidth\":0,\"ticks\":\"\"},\"colorscale\":[[0.0,\"#0d0887\"],[0.1111111111111111,\"#46039f\"],[0.2222222222222222,\"#7201a8\"],[0.3333333333333333,\"#9c179e\"],[0.4444444444444444,\"#bd3786\"],[0.5555555555555556,\"#d8576b\"],[0.6666666666666666,\"#ed7953\"],[0.7777777777777778,\"#fb9f3a\"],[0.8888888888888888,\"#fdca26\"],[1.0,\"#f0f921\"]]}],\"contourcarpet\":[{\"type\":\"contourcarpet\",\"colorbar\":{\"outlinewidth\":0,\"ticks\":\"\"}}],\"contour\":[{\"type\":\"contour\",\"colorbar\":{\"outlinewidth\":0,\"ticks\":\"\"},\"colorscale\":[[0.0,\"#0d0887\"],[0.1111111111111111,\"#46039f\"],[0.2222222222222222,\"#7201a8\"],[0.3333333333333333,\"#9c179e\"],[0.4444444444444444,\"#bd3786\"],[0.5555555555555556,\"#d8576b\"],[0.6666666666666666,\"#ed7953\"],[0.7777777777777778,\"#fb9f3a\"],[0.8888888888888888,\"#fdca26\"],[1.0,\"#f0f921\"]]}],\"surface\":[{\"type\":\"surface\",\"colorbar\":{\"outlinewidth\":0,\"ticks\":\"\"},\"colorscale\":[[0.0,\"#0d0887\"],[0.1111111111111111,\"#46039f\"],[0.2222222222222222,\"#7201a8\"],[0.3333333333333333,\"#9c179e\"],[0.4444444444444444,\"#bd3786\"],[0.5555555555555556,\"#d8576b\"],[0.6666666666666666,\"#ed7953\"],[0.7777777777777778,\"#fb9f3a\"],[0.8888888888888888,\"#fdca26\"],[1.0,\"#f0f921\"]]}],\"mesh3d\":[{\"type\":\"mesh3d\",\"colorbar\":{\"outlinewidth\":0,\"ticks\":\"\"}}],\"scatter\":[{\"fillpattern\":{\"fillmode\":\"overlay\",\"size\":10,\"solidity\":0.2},\"type\":\"scatter\"}],\"parcoords\":[{\"type\":\"parcoords\",\"line\":{\"colorbar\":{\"outlinewidth\":0,\"ticks\":\"\"}}}],\"scatterpolargl\":[{\"type\":\"scatterpolargl\",\"marker\":{\"colorbar\":{\"outlinewidth\":0,\"ticks\":\"\"}}}],\"bar\":[{\"error_x\":{\"color\":\"#2a3f5f\"},\"error_y\":{\"color\":\"#2a3f5f\"},\"marker\":{\"line\":{\"color\":\"#E5ECF6\",\"width\":0.5},\"pattern\":{\"fillmode\":\"overlay\",\"size\":10,\"solidity\":0.2}},\"type\":\"bar\"}],\"scattergeo\":[{\"type\":\"scattergeo\",\"marker\":{\"colorbar\":{\"outlinewidth\":0,\"ticks\":\"\"}}}],\"scatterpolar\":[{\"type\":\"scatterpolar\",\"marker\":{\"colorbar\":{\"outlinewidth\":0,\"ticks\":\"\"}}}],\"histogram\":[{\"marker\":{\"pattern\":{\"fillmode\":\"overlay\",\"size\":10,\"solidity\":0.2}},\"type\":\"histogram\"}],\"scattergl\":[{\"type\":\"scattergl\",\"marker\":{\"colorbar\":{\"outlinewidth\":0,\"ticks\":\"\"}}}],\"scatter3d\":[{\"type\":\"scatter3d\",\"line\":{\"colorbar\":{\"outlinewidth\":0,\"ticks\":\"\"}},\"marker\":{\"colorbar\":{\"outlinewidth\":0,\"ticks\":\"\"}}}],\"scattermapbox\":[{\"type\":\"scattermapbox\",\"marker\":{\"colorbar\":{\"outlinewidth\":0,\"ticks\":\"\"}}}],\"scatterternary\":[{\"type\":\"scatterternary\",\"marker\":{\"colorbar\":{\"outlinewidth\":0,\"ticks\":\"\"}}}],\"scattercarpet\":[{\"type\":\"scattercarpet\",\"marker\":{\"colorbar\":{\"outlinewidth\":0,\"ticks\":\"\"}}}],\"carpet\":[{\"aaxis\":{\"endlinecolor\":\"#2a3f5f\",\"gridcolor\":\"white\",\"linecolor\":\"white\",\"minorgridcolor\":\"white\",\"startlinecolor\":\"#2a3f5f\"},\"baxis\":{\"endlinecolor\":\"#2a3f5f\",\"gridcolor\":\"white\",\"linecolor\":\"white\",\"minorgridcolor\":\"white\",\"startlinecolor\":\"#2a3f5f\"},\"type\":\"carpet\"}],\"table\":[{\"cells\":{\"fill\":{\"color\":\"#EBF0F8\"},\"line\":{\"color\":\"white\"}},\"header\":{\"fill\":{\"color\":\"#C8D4E3\"},\"line\":{\"color\":\"white\"}},\"type\":\"table\"}],\"barpolar\":[{\"marker\":{\"line\":{\"color\":\"#E5ECF6\",\"width\":0.5},\"pattern\":{\"fillmode\":\"overlay\",\"size\":10,\"solidity\":0.2}},\"type\":\"barpolar\"}],\"pie\":[{\"automargin\":true,\"type\":\"pie\"}]},\"layout\":{\"autotypenumbers\":\"strict\",\"colorway\":[\"#636efa\",\"#EF553B\",\"#00cc96\",\"#ab63fa\",\"#FFA15A\",\"#19d3f3\",\"#FF6692\",\"#B6E880\",\"#FF97FF\",\"#FECB52\"],\"font\":{\"color\":\"#2a3f5f\"},\"hovermode\":\"closest\",\"hoverlabel\":{\"align\":\"left\"},\"paper_bgcolor\":\"white\",\"plot_bgcolor\":\"#E5ECF6\",\"polar\":{\"bgcolor\":\"#E5ECF6\",\"angularaxis\":{\"gridcolor\":\"white\",\"linecolor\":\"white\",\"ticks\":\"\"},\"radialaxis\":{\"gridcolor\":\"white\",\"linecolor\":\"white\",\"ticks\":\"\"}},\"ternary\":{\"bgcolor\":\"#E5ECF6\",\"aaxis\":{\"gridcolor\":\"white\",\"linecolor\":\"white\",\"ticks\":\"\"},\"baxis\":{\"gridcolor\":\"white\",\"linecolor\":\"white\",\"ticks\":\"\"},\"caxis\":{\"gridcolor\":\"white\",\"linecolor\":\"white\",\"ticks\":\"\"}},\"coloraxis\":{\"colorbar\":{\"outlinewidth\":0,\"ticks\":\"\"}},\"colorscale\":{\"sequential\":[[0.0,\"#0d0887\"],[0.1111111111111111,\"#46039f\"],[0.2222222222222222,\"#7201a8\"],[0.3333333333333333,\"#9c179e\"],[0.4444444444444444,\"#bd3786\"],[0.5555555555555556,\"#d8576b\"],[0.6666666666666666,\"#ed7953\"],[0.7777777777777778,\"#fb9f3a\"],[0.8888888888888888,\"#fdca26\"],[1.0,\"#f0f921\"]],\"sequentialminus\":[[0.0,\"#0d0887\"],[0.1111111111111111,\"#46039f\"],[0.2222222222222222,\"#7201a8\"],[0.3333333333333333,\"#9c179e\"],[0.4444444444444444,\"#bd3786\"],[0.5555555555555556,\"#d8576b\"],[0.6666666666666666,\"#ed7953\"],[0.7777777777777778,\"#fb9f3a\"],[0.8888888888888888,\"#fdca26\"],[1.0,\"#f0f921\"]],\"diverging\":[[0,\"#8e0152\"],[0.1,\"#c51b7d\"],[0.2,\"#de77ae\"],[0.3,\"#f1b6da\"],[0.4,\"#fde0ef\"],[0.5,\"#f7f7f7\"],[0.6,\"#e6f5d0\"],[0.7,\"#b8e186\"],[0.8,\"#7fbc41\"],[0.9,\"#4d9221\"],[1,\"#276419\"]]},\"xaxis\":{\"gridcolor\":\"white\",\"linecolor\":\"white\",\"ticks\":\"\",\"title\":{\"standoff\":15},\"zerolinecolor\":\"white\",\"automargin\":true,\"zerolinewidth\":2},\"yaxis\":{\"gridcolor\":\"white\",\"linecolor\":\"white\",\"ticks\":\"\",\"title\":{\"standoff\":15},\"zerolinecolor\":\"white\",\"automargin\":true,\"zerolinewidth\":2},\"scene\":{\"xaxis\":{\"backgroundcolor\":\"#E5ECF6\",\"gridcolor\":\"white\",\"linecolor\":\"white\",\"showbackground\":true,\"ticks\":\"\",\"zerolinecolor\":\"white\",\"gridwidth\":2},\"yaxis\":{\"backgroundcolor\":\"#E5ECF6\",\"gridcolor\":\"white\",\"linecolor\":\"white\",\"showbackground\":true,\"ticks\":\"\",\"zerolinecolor\":\"white\",\"gridwidth\":2},\"zaxis\":{\"backgroundcolor\":\"#E5ECF6\",\"gridcolor\":\"white\",\"linecolor\":\"white\",\"showbackground\":true,\"ticks\":\"\",\"zerolinecolor\":\"white\",\"gridwidth\":2}},\"shapedefaults\":{\"line\":{\"color\":\"#2a3f5f\"}},\"annotationdefaults\":{\"arrowcolor\":\"#2a3f5f\",\"arrowhead\":0,\"arrowwidth\":1},\"geo\":{\"bgcolor\":\"white\",\"landcolor\":\"#E5ECF6\",\"subunitcolor\":\"white\",\"showland\":true,\"showlakes\":true,\"lakecolor\":\"white\"},\"title\":{\"x\":0.05},\"mapbox\":{\"style\":\"light\"}}},\"scene\":{\"domain\":{\"x\":[0.0,1.0],\"y\":[0.0,1.0]},\"xaxis\":{\"title\":{\"text\":\"x\"}},\"yaxis\":{\"title\":{\"text\":\"y\"}},\"zaxis\":{\"title\":{\"text\":\"z\"}}},\"legend\":{\"tracegroupgap\":0},\"title\":{\"text\":\"Word Embeddings in 3D Space\"}},                        {\"responsive\": true}                    ).then(function(){\n",
              "                            \n",
              "var gd = document.getElementById('995d30ce-d043-432c-9b93-0724b4236e62');\n",
              "var x = new MutationObserver(function (mutations, observer) {{\n",
              "        var display = window.getComputedStyle(gd).display;\n",
              "        if (!display || display === 'none') {{\n",
              "            console.log([gd, 'removed!']);\n",
              "            Plotly.purge(gd);\n",
              "            observer.disconnect();\n",
              "        }}\n",
              "}});\n",
              "\n",
              "// Listen for the removal of the full notebook cells\n",
              "var notebookContainer = gd.closest('#notebook-container');\n",
              "if (notebookContainer) {{\n",
              "    x.observe(notebookContainer, {childList: true});\n",
              "}}\n",
              "\n",
              "// Listen for the clearing of the current output cell\n",
              "var outputEl = gd.closest('.output');\n",
              "if (outputEl) {{\n",
              "    x.observe(outputEl, {childList: true});\n",
              "}}\n",
              "\n",
              "                        })                };                            </script>        </div>\n",
              "</body>\n",
              "</html>"
            ]
          },
          "metadata": {}
        }
      ]
    },
    {
      "cell_type": "code",
      "source": [
        "def get_text_vector(text, model):\n",
        "    # Tokenize the text into words\n",
        "    tokens = text.split()  # You can modify this for more sophisticated tokenization\n",
        "    word_vectors = []\n",
        "\n",
        "    # Get the word vectors for each word in the text\n",
        "    for word in tokens:\n",
        "        if word in model.wv:  # Check if the word is in the model's vocabulary\n",
        "            word_vectors.append(model.wv[word])\n",
        "\n",
        "    # If no valid word vectors are found, return a zero vector\n",
        "    if len(word_vectors) == 0:\n",
        "        return np.zeros(model.vector_size)\n",
        "\n",
        "    # Compute the average of the word vectors to get the text vector\n",
        "    text_vector = np.mean(word_vectors, axis=0)\n",
        "    return text_vector"
      ],
      "metadata": {
        "id": "sa8q40AnnLzP"
      },
      "execution_count": 60,
      "outputs": []
    },
    {
      "cell_type": "code",
      "source": [
        "text = \"neural networks are a key component of deep learning\"\n",
        "text_vector = get_text_vector(text, model)\n",
        "\n",
        "print(f\"Text vector (averaged word vectors): {text_vector}\")"
      ],
      "metadata": {
        "colab": {
          "base_uri": "https://localhost:8080/"
        },
        "id": "r1H7S33Cq6Yp",
        "outputId": "915d01fb-94ad-4bbc-9542-30bb41bc1aa9"
      },
      "execution_count": 67,
      "outputs": [
        {
          "output_type": "stream",
          "name": "stdout",
          "text": [
            "Text vector (averaged word vectors): [ 0.04107774  0.05352738 -0.00358233 -0.01027171  0.12870689 -0.3826387\n",
            "  0.40182886  0.8824169  -0.71874243 -0.20300122 -0.18260777 -0.7469179\n",
            "  0.17772482  0.19820136 -0.45528093  0.23836736  0.45089912  0.05216053\n",
            " -0.47686398 -0.5295954   0.20186345  0.4051478   0.54907876 -0.2714127\n",
            "  0.21079917  0.12605186 -0.37924075 -0.19861372 -0.6310021   0.27575043\n",
            "  0.26854673 -0.05207038 -0.3594527   0.17972702 -0.39708495  0.43614402\n",
            "  0.13502096 -0.20737201  0.39290252 -0.58467096  0.4217185  -0.2244641\n",
            " -0.2847762   0.15596579  1.1449791   0.05445331 -0.38640216 -0.40179268\n",
            "  0.33952656  0.05289399]\n"
          ]
        }
      ]
    },
    {
      "cell_type": "code",
      "source": [
        "from sklearn.metrics.pairwise import cosine_similarity\n",
        "\n",
        "# Get the vector for another text to compare with\n",
        "another_text = \"Statistics\"\n",
        "another_text_vector = get_text_vector(another_text, model)\n",
        "\n",
        "# Compute the cosine similarity\n",
        "similarity = cosine_similarity([text_vector], [another_text_vector])\n",
        "\n",
        "print(f\"Cosine similarity between the two texts: {similarity[0][0]}\")\n"
      ],
      "metadata": {
        "colab": {
          "base_uri": "https://localhost:8080/"
        },
        "id": "7Y1_4Y-RpvAu",
        "outputId": "720851db-f381-46c8-f67d-1dd0dc2758c0"
      },
      "execution_count": 69,
      "outputs": [
        {
          "output_type": "stream",
          "name": "stdout",
          "text": [
            "Cosine similarity between the two texts: 0.0\n"
          ]
        }
      ]
    },
    {
      "cell_type": "code",
      "source": [
        "another_text_2 = \"tensor\"\n",
        "another_text_vector_2 = get_text_vector(another_text_2, model)\n",
        "\n",
        "cosine_similarity([text_vector], [another_text_vector_2])[0][0]"
      ],
      "metadata": {
        "colab": {
          "base_uri": "https://localhost:8080/"
        },
        "id": "zDBls8Jgp8_6",
        "outputId": "90353cfd-ffbb-4fa7-d664-c9edf1e88e59"
      },
      "execution_count": 73,
      "outputs": [
        {
          "output_type": "execute_result",
          "data": {
            "text/plain": [
              "0.9901884"
            ]
          },
          "metadata": {},
          "execution_count": 73
        }
      ]
    },
    {
      "cell_type": "code",
      "source": [],
      "metadata": {
        "id": "Af6Halh_rghg"
      },
      "execution_count": null,
      "outputs": []
    }
  ]
}