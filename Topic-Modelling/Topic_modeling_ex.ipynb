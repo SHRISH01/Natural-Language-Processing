{
  "nbformat": 4,
  "nbformat_minor": 0,
  "metadata": {
    "colab": {
      "provenance": []
    },
    "kernelspec": {
      "name": "python3",
      "display_name": "Python 3"
    },
    "language_info": {
      "name": "python"
    }
  },
  "cells": [
    {
      "cell_type": "code",
      "execution_count": 1,
      "metadata": {
        "id": "juevuCHLW8u5"
      },
      "outputs": [],
      "source": [
        "from gensim.models.ldamodel import LdaModel\n",
        "from gensim.corpora.dictionary import Dictionary\n",
        "from nltk.tokenize import word_tokenize"
      ]
    },
    {
      "cell_type": "code",
      "source": [
        "import nltk\n",
        "nltk.download('punkt')\n",
        "nltk.download('punkt_tab')"
      ],
      "metadata": {
        "colab": {
          "base_uri": "https://localhost:8080/"
        },
        "id": "zvEA4TPsVslH",
        "outputId": "32be2be0-9860-4055-9a24-18d811fb8536"
      },
      "execution_count": 7,
      "outputs": [
        {
          "output_type": "stream",
          "name": "stderr",
          "text": [
            "[nltk_data] Downloading package punkt to /root/nltk_data...\n",
            "[nltk_data]   Package punkt is already up-to-date!\n",
            "[nltk_data] Downloading package punkt_tab to /root/nltk_data...\n",
            "[nltk_data]   Unzipping tokenizers/punkt_tab.zip.\n"
          ]
        },
        {
          "output_type": "execute_result",
          "data": {
            "text/plain": [
              "True"
            ]
          },
          "metadata": {},
          "execution_count": 7
        }
      ]
    },
    {
      "cell_type": "code",
      "source": [
        "documents = [\n",
        "    \"Artificial intelligence is transforming the world.\",\n",
        "    \"Machine learning and AI are subsets of data science.\",\n",
        "    \"Natural language processing enables machines to understand human language.\",\n",
        "]"
      ],
      "metadata": {
        "id": "YY5XYdseVh5o"
      },
      "execution_count": 5,
      "outputs": []
    },
    {
      "cell_type": "code",
      "source": [
        "# Preprocessing\n",
        "tokenized_docs = [word_tokenize(doc.lower()) for doc in documents]\n",
        "dictionary = Dictionary(tokenized_docs)\n",
        "corpus = [dictionary.doc2bow(doc) for doc in tokenized_docs]"
      ],
      "metadata": {
        "id": "kz1qIjqWVj9-"
      },
      "execution_count": 8,
      "outputs": []
    },
    {
      "cell_type": "code",
      "source": [
        "\n",
        "# Train LDA Model\n",
        "lda = LdaModel(corpus, num_topics=2, id2word=dictionary, passes=15)"
      ],
      "metadata": {
        "id": "SofwkSFuVmZ1"
      },
      "execution_count": 9,
      "outputs": []
    },
    {
      "cell_type": "code",
      "source": [
        "# Display Topics\n",
        "for idx, topic in lda.print_topics():\n",
        "    print(f\"Topic {idx}: {topic}\")"
      ],
      "metadata": {
        "colab": {
          "base_uri": "https://localhost:8080/"
        },
        "id": "6AKTJ3FhV5Mo",
        "outputId": "265565b2-f0f2-437e-d754-690e4ff0c0ee"
      },
      "execution_count": 11,
      "outputs": [
        {
          "output_type": "stream",
          "name": "stdout",
          "text": [
            "Topic 0: 0.113*\"language\" + 0.068*\".\" + 0.068*\"enables\" + 0.068*\"natural\" + 0.068*\"to\" + 0.068*\"processing\" + 0.068*\"human\" + 0.068*\"understand\" + 0.068*\"machines\" + 0.023*\"world\"\n",
            "Topic 1: 0.086*\".\" + 0.052*\"subsets\" + 0.052*\"and\" + 0.052*\"of\" + 0.052*\"ai\" + 0.052*\"machine\" + 0.052*\"data\" + 0.052*\"science\" + 0.052*\"are\" + 0.052*\"learning\"\n"
          ]
        }
      ]
    },
    {
      "cell_type": "code",
      "source": [],
      "metadata": {
        "id": "zl0AvBXhV7QX"
      },
      "execution_count": null,
      "outputs": []
    }
  ]
}